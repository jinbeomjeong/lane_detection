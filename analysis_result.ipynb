{
 "cells": [
  {
   "cell_type": "code",
   "execution_count": 4,
   "id": "initial_id",
   "metadata": {
    "collapsed": true,
    "ExecuteTime": {
     "end_time": "2024-02-25T15:24:51.641686200Z",
     "start_time": "2024-02-25T15:24:51.637167400Z"
    }
   },
   "outputs": [],
   "source": [
    "import os, cv2, multiprocessing\n",
    "import numpy as np\n",
    "\n",
    "from concurrent.futures import ProcessPoolExecutor\n",
    "from miseval import evaluate\n",
    "from tqdm import tqdm"
   ]
  },
  {
   "cell_type": "code",
   "outputs": [],
   "source": [
    "num_cores = multiprocessing.cpu_count()"
   ],
   "metadata": {
    "collapsed": false,
    "ExecuteTime": {
     "end_time": "2024-02-25T15:24:52.397813700Z",
     "start_time": "2024-02-25T15:24:52.392936400Z"
    }
   },
   "id": "ec441f99c50f0206",
   "execution_count": 5
  },
  {
   "cell_type": "code",
   "outputs": [],
   "source": [
    "label_daylight_img_root_path = 'C:\\\\workspace\\\\lane_result_img\\\\ground_truth\\\\daylight\\\\'\n",
    "label_night_img_root_path = 'C:\\\\workspace\\\\lane_result_img\\\\ground_truth\\\\night\\\\'\n",
    "\n",
    "pred_daylight_img_root_path = 'C:\\\\workspace\\\\lane_result_img\\\\predict\\\\\\daylight\\\\'\n",
    "pred_night_img_root_path = 'C:\\\\workspace\\\\lane_result_img\\\\predict\\\\night\\\\'"
   ],
   "metadata": {
    "collapsed": false,
    "ExecuteTime": {
     "end_time": "2024-02-25T15:24:53.078441600Z",
     "start_time": "2024-02-25T15:24:53.072442Z"
    }
   },
   "id": "6e2836e504bcdc1c",
   "execution_count": 6
  },
  {
   "cell_type": "code",
   "outputs": [],
   "source": [
    "label_daylight_img_file_name_list = os.listdir(label_daylight_img_root_path)\n",
    "label_daylight_img_file_name_list.sort()\n",
    "\n",
    "label_night_img_file_name_list = os.listdir(label_night_img_root_path)\n",
    "label_night_img_file_name_list.sort()\n",
    "\n",
    "pred_daylight_img_file_name_list = os.listdir(pred_daylight_img_root_path)\n",
    "pred_daylight_img_file_name_list.sort()\n",
    "\n",
    "pred_night_img_file_name_list = os.listdir(pred_night_img_root_path)\n",
    "pred_night_img_file_name_list.sort()"
   ],
   "metadata": {
    "collapsed": false,
    "ExecuteTime": {
     "end_time": "2024-02-25T15:24:53.928388900Z",
     "start_time": "2024-02-25T15:24:53.840353400Z"
    }
   },
   "id": "610fcc03e4af6bbb",
   "execution_count": 7
  },
  {
   "cell_type": "code",
   "outputs": [],
   "source": [
    "for i, img_file_name in enumerate(label_daylight_img_file_name_list):\n",
    "    label_daylight_img_file_name_list[i] = label_daylight_img_root_path + img_file_name\n",
    "\n",
    "for i, img_file_name in enumerate(label_night_img_file_name_list):\n",
    "    label_night_img_file_name_list[i] = label_night_img_root_path + img_file_name\n",
    "    \n",
    "for i, img_file_name in enumerate(pred_daylight_img_file_name_list):\n",
    "    pred_daylight_img_file_name_list[i] = pred_daylight_img_root_path + img_file_name\n",
    "\n",
    "for i, img_file_name in enumerate(pred_night_img_file_name_list):\n",
    "    pred_night_img_file_name_list[i] = pred_night_img_root_path + img_file_name"
   ],
   "metadata": {
    "collapsed": false,
    "ExecuteTime": {
     "end_time": "2024-02-25T15:24:55.076671300Z",
     "start_time": "2024-02-25T15:24:55.056834Z"
    }
   },
   "id": "556d6a7187767df8",
   "execution_count": 8
  },
  {
   "cell_type": "code",
   "outputs": [],
   "source": [
    "daylight_metric_val_arr = np.zeros((len(label_daylight_img_file_name_list), 10), dtype=np.float64)\n",
    "night_metric_val_arr = np.zeros((len(label_night_img_file_name_list), 10), dtype=np.float64)"
   ],
   "metadata": {
    "collapsed": false,
    "ExecuteTime": {
     "end_time": "2024-02-25T15:24:56.269455600Z",
     "start_time": "2024-02-25T15:24:56.263455700Z"
    }
   },
   "id": "7d5cfbbd30c5cf85",
   "execution_count": 9
  },
  {
   "cell_type": "code",
   "outputs": [],
   "source": [
    "def calculate_metric(img_file_path):\n",
    "    label_img = cv2.imread(filename=img_file_path[0], flags=cv2.IMREAD_GRAYSCALE)\n",
    "    label_img = label_img >= 1\n",
    "    label_img = label_img.astype(np.uint8)\n",
    "    \n",
    "    pred_img = cv2.imread(filename=img_file_path[1], flags=cv2.IMREAD_GRAYSCALE)\n",
    "    pred_img = pred_img >= 1\n",
    "    pred_img = pred_img.astype(np.uint8)\n",
    "    \n",
    "    acc_val = evaluate(label_img, pred_img, metric=\"ACC\")\n",
    "    prec_val = evaluate(label_img, pred_img, metric=\"PREC\")\n",
    "    dice_val = evaluate(label_img, pred_img, metric=\"DSC\")\n",
    "    iou_val = evaluate(label_img, pred_img, metric=\"IoU\")\n",
    "    hausdorff_val = evaluate(label_img, pred_img, metric=\"HD\")\n",
    "    tp_val = evaluate(label_img, pred_img, metric=\"TP\")\n",
    "    tn_val = evaluate(label_img, pred_img, metric=\"TN\")\n",
    "    fp_val = evaluate(label_img, pred_img, metric=\"FP\")\n",
    "    fn_val = evaluate(label_img, pred_img, metric=\"FN\")\n",
    "    auc_val = evaluate(label_img, pred_img, metric=\"AUC\") \n",
    "    \n",
    "    return acc_val, prec_val, dice_val, iou_val, hausdorff_val, tp_val, tn_val, fp_val, fn_val, auc_val"
   ],
   "metadata": {
    "collapsed": false,
    "ExecuteTime": {
     "end_time": "2024-02-25T15:24:57.331327700Z",
     "start_time": "2024-02-25T15:24:57.326670800Z"
    }
   },
   "id": "2296652790fc9cbc",
   "execution_count": 10
  },
  {
   "cell_type": "code",
   "outputs": [
    {
     "name": "stderr",
     "output_type": "stream",
     "text": [
      "  0%|          | 121/60000 [00:05<41:50, 23.85it/s]\n"
     ]
    },
    {
     "ename": "KeyboardInterrupt",
     "evalue": "",
     "output_type": "error",
     "traceback": [
      "\u001B[1;31m---------------------------------------------------------------------------\u001B[0m",
      "\u001B[1;31mKeyboardInterrupt\u001B[0m                         Traceback (most recent call last)",
      "Cell \u001B[1;32mIn[11], line 2\u001B[0m\n\u001B[0;32m      1\u001B[0m \u001B[38;5;28;01mfor\u001B[39;00m i, img_path \u001B[38;5;129;01min\u001B[39;00m \u001B[38;5;28menumerate\u001B[39m(\u001B[38;5;28mzip\u001B[39m(tqdm(label_daylight_img_file_name_list), pred_daylight_img_file_name_list)):\n\u001B[1;32m----> 2\u001B[0m     metric_values \u001B[38;5;241m=\u001B[39m \u001B[43mcalculate_metric\u001B[49m\u001B[43m(\u001B[49m\u001B[43mimg_file_path\u001B[49m\u001B[38;5;241;43m=\u001B[39;49m\u001B[43mimg_path\u001B[49m\u001B[43m)\u001B[49m\n\u001B[0;32m      4\u001B[0m     \u001B[38;5;28;01mfor\u001B[39;00m j, metric \u001B[38;5;129;01min\u001B[39;00m \u001B[38;5;28menumerate\u001B[39m(metric_values):\n\u001B[0;32m      5\u001B[0m         daylight_metric_val_arr[i, j] \u001B[38;5;241m=\u001B[39m metric\n",
      "Cell \u001B[1;32mIn[10], line 15\u001B[0m, in \u001B[0;36mcalculate_metric\u001B[1;34m(img_file_path)\u001B[0m\n\u001B[0;32m     13\u001B[0m iou_val \u001B[38;5;241m=\u001B[39m evaluate(label_img, pred_img, metric\u001B[38;5;241m=\u001B[39m\u001B[38;5;124m\"\u001B[39m\u001B[38;5;124mIoU\u001B[39m\u001B[38;5;124m\"\u001B[39m)\n\u001B[0;32m     14\u001B[0m hausdorff_val \u001B[38;5;241m=\u001B[39m evaluate(label_img, pred_img, metric\u001B[38;5;241m=\u001B[39m\u001B[38;5;124m\"\u001B[39m\u001B[38;5;124mHD\u001B[39m\u001B[38;5;124m\"\u001B[39m)\n\u001B[1;32m---> 15\u001B[0m tp_val \u001B[38;5;241m=\u001B[39m \u001B[43mevaluate\u001B[49m\u001B[43m(\u001B[49m\u001B[43mlabel_img\u001B[49m\u001B[43m,\u001B[49m\u001B[43m \u001B[49m\u001B[43mpred_img\u001B[49m\u001B[43m,\u001B[49m\u001B[43m \u001B[49m\u001B[43mmetric\u001B[49m\u001B[38;5;241;43m=\u001B[39;49m\u001B[38;5;124;43m\"\u001B[39;49m\u001B[38;5;124;43mTP\u001B[39;49m\u001B[38;5;124;43m\"\u001B[39;49m\u001B[43m)\u001B[49m\n\u001B[0;32m     16\u001B[0m tn_val \u001B[38;5;241m=\u001B[39m evaluate(label_img, pred_img, metric\u001B[38;5;241m=\u001B[39m\u001B[38;5;124m\"\u001B[39m\u001B[38;5;124mTN\u001B[39m\u001B[38;5;124m\"\u001B[39m)\n\u001B[0;32m     17\u001B[0m fp_val \u001B[38;5;241m=\u001B[39m evaluate(label_img, pred_img, metric\u001B[38;5;241m=\u001B[39m\u001B[38;5;124m\"\u001B[39m\u001B[38;5;124mFP\u001B[39m\u001B[38;5;124m\"\u001B[39m)\n",
      "File \u001B[1;32mC:\\workspace\\lane_detection\\venv\\lib\\site-packages\\miseval\\core.py:71\u001B[0m, in \u001B[0;36mevaluate\u001B[1;34m(truth, pred, metric, multi_class, n_classes, **kwargs)\u001B[0m\n\u001B[0;32m     68\u001B[0m \u001B[38;5;28;01melse\u001B[39;00m : \u001B[38;5;28;01mraise\u001B[39;00m \u001B[38;5;167;01mValueError\u001B[39;00m(\u001B[38;5;124m\"\u001B[39m\u001B[38;5;124mProvided metric is neither a function nor a \u001B[39m\u001B[38;5;124m\"\u001B[39m \u001B[38;5;241m+\u001B[39m \\\n\u001B[0;32m     69\u001B[0m                         \u001B[38;5;124m\"\u001B[39m\u001B[38;5;124mstring!\u001B[39m\u001B[38;5;124m\"\u001B[39m \u001B[38;5;241m+\u001B[39m \u001B[38;5;124m\"\u001B[39m\u001B[38;5;124m : \u001B[39m\u001B[38;5;124m\"\u001B[39m \u001B[38;5;241m+\u001B[39m \u001B[38;5;28mstr\u001B[39m(metric))\n\u001B[0;32m     70\u001B[0m \u001B[38;5;66;03m# Check some Exceptions\u001B[39;00m\n\u001B[1;32m---> 71\u001B[0m \u001B[38;5;28;01mif\u001B[39;00m n_classes \u001B[38;5;241m==\u001B[39m \u001B[38;5;241m2\u001B[39m \u001B[38;5;129;01mand\u001B[39;00m \u001B[38;5;28mlen\u001B[39m(\u001B[43mnp\u001B[49m\u001B[38;5;241;43m.\u001B[39;49m\u001B[43munique\u001B[49m\u001B[43m(\u001B[49m\u001B[43mtruth\u001B[49m\u001B[43m)\u001B[49m) \u001B[38;5;241m>\u001B[39m \u001B[38;5;241m2\u001B[39m:\n\u001B[0;32m     72\u001B[0m     \u001B[38;5;28;01mraise\u001B[39;00m \u001B[38;5;167;01mValueError\u001B[39;00m(\u001B[38;5;124m\"\u001B[39m\u001B[38;5;124mSegmentation mask (truth) contains more than 2 classes!\u001B[39m\u001B[38;5;124m\"\u001B[39m)\n\u001B[0;32m     73\u001B[0m \u001B[38;5;28;01mif\u001B[39;00m n_classes \u001B[38;5;241m==\u001B[39m \u001B[38;5;241m2\u001B[39m \u001B[38;5;129;01mand\u001B[39;00m \u001B[38;5;28mlen\u001B[39m(np\u001B[38;5;241m.\u001B[39munique(pred)) \u001B[38;5;241m>\u001B[39m \u001B[38;5;241m2\u001B[39m:\n",
      "File \u001B[1;32m<__array_function__ internals>:5\u001B[0m, in \u001B[0;36munique\u001B[1;34m(*args, **kwargs)\u001B[0m\n",
      "File \u001B[1;32mC:\\workspace\\lane_detection\\venv\\lib\\site-packages\\numpy\\lib\\arraysetops.py:272\u001B[0m, in \u001B[0;36munique\u001B[1;34m(ar, return_index, return_inverse, return_counts, axis)\u001B[0m\n\u001B[0;32m    270\u001B[0m ar \u001B[38;5;241m=\u001B[39m np\u001B[38;5;241m.\u001B[39masanyarray(ar)\n\u001B[0;32m    271\u001B[0m \u001B[38;5;28;01mif\u001B[39;00m axis \u001B[38;5;129;01mis\u001B[39;00m \u001B[38;5;28;01mNone\u001B[39;00m:\n\u001B[1;32m--> 272\u001B[0m     ret \u001B[38;5;241m=\u001B[39m \u001B[43m_unique1d\u001B[49m\u001B[43m(\u001B[49m\u001B[43mar\u001B[49m\u001B[43m,\u001B[49m\u001B[43m \u001B[49m\u001B[43mreturn_index\u001B[49m\u001B[43m,\u001B[49m\u001B[43m \u001B[49m\u001B[43mreturn_inverse\u001B[49m\u001B[43m,\u001B[49m\u001B[43m \u001B[49m\u001B[43mreturn_counts\u001B[49m\u001B[43m)\u001B[49m\n\u001B[0;32m    273\u001B[0m     \u001B[38;5;28;01mreturn\u001B[39;00m _unpack_tuple(ret)\n\u001B[0;32m    275\u001B[0m \u001B[38;5;66;03m# axis was specified and not None\u001B[39;00m\n",
      "File \u001B[1;32mC:\\workspace\\lane_detection\\venv\\lib\\site-packages\\numpy\\lib\\arraysetops.py:333\u001B[0m, in \u001B[0;36m_unique1d\u001B[1;34m(ar, return_index, return_inverse, return_counts)\u001B[0m\n\u001B[0;32m    331\u001B[0m     aux \u001B[38;5;241m=\u001B[39m ar[perm]\n\u001B[0;32m    332\u001B[0m \u001B[38;5;28;01melse\u001B[39;00m:\n\u001B[1;32m--> 333\u001B[0m     \u001B[43mar\u001B[49m\u001B[38;5;241;43m.\u001B[39;49m\u001B[43msort\u001B[49m\u001B[43m(\u001B[49m\u001B[43m)\u001B[49m\n\u001B[0;32m    334\u001B[0m     aux \u001B[38;5;241m=\u001B[39m ar\n\u001B[0;32m    335\u001B[0m mask \u001B[38;5;241m=\u001B[39m np\u001B[38;5;241m.\u001B[39mempty(aux\u001B[38;5;241m.\u001B[39mshape, dtype\u001B[38;5;241m=\u001B[39mnp\u001B[38;5;241m.\u001B[39mbool_)\n",
      "\u001B[1;31mKeyboardInterrupt\u001B[0m: "
     ]
    }
   ],
   "source": [
    "for i, img_path in enumerate(zip(tqdm(label_daylight_img_file_name_list), pred_daylight_img_file_name_list)):\n",
    "    metric_values = calculate_metric(img_file_path=img_path)\n",
    "    \n",
    "    for j, metric in enumerate(metric_values):\n",
    "        daylight_metric_val_arr[i, j] = metric"
   ],
   "metadata": {
    "collapsed": false,
    "ExecuteTime": {
     "end_time": "2024-02-25T15:25:04.293950300Z",
     "start_time": "2024-02-25T15:24:59.149600200Z"
    }
   },
   "id": "4fd241f1e7181c30",
   "execution_count": 11
  },
  {
   "cell_type": "code",
   "outputs": [],
   "source": [
    "split_label_daylight = np.array_split(label_daylight_img_file_name_list, num_cores)\n",
    "\n",
    "for i, x in enumerate(split_label_daylight):\n",
    "    split_label_daylight[i] = x.tolist()"
   ],
   "metadata": {
    "collapsed": false,
    "ExecuteTime": {
     "end_time": "2024-02-25T15:12:45.667039600Z",
     "start_time": "2024-02-25T15:12:45.651039400Z"
    }
   },
   "id": "8311b1b3462768d2",
   "execution_count": 9
  },
  {
   "cell_type": "code",
   "outputs": [],
   "source": [
    "split_pred_daylight = np.array_split(pred_daylight_img_file_name_list, num_cores)\n",
    "\n",
    "for i, x in enumerate(split_pred_daylight):\n",
    "    split_pred_daylight[i] = x.tolist()"
   ],
   "metadata": {
    "collapsed": false,
    "ExecuteTime": {
     "end_time": "2024-02-25T15:12:46.552329600Z",
     "start_time": "2024-02-25T15:12:46.533537900Z"
    }
   },
   "id": "3db6628015103b7a",
   "execution_count": 10
  },
  {
   "cell_type": "code",
   "outputs": [
    {
     "data": {
      "text/plain": "  0%|          | 0/20 [00:00<?, ?it/s]",
      "application/vnd.jupyter.widget-view+json": {
       "version_major": 2,
       "version_minor": 0,
       "model_id": "2de42f3d73854b5f82efe3c60b177fbc"
      }
     },
     "metadata": {},
     "output_type": "display_data"
    }
   ],
   "source": [
    "pool = ProcessPoolExecutor(max_workers=num_cores)\n",
    "result = parmap.map(calculate_metric, split_label_daylight, pm_pbar=True, pm_processes=num_cores)"
   ],
   "metadata": {
    "collapsed": false,
    "is_executing": true,
    "ExecuteTime": {
     "start_time": "2024-02-25T15:13:04.239911800Z"
    }
   },
   "id": "f131d1f1dcf0d76d",
   "execution_count": null
  },
  {
   "cell_type": "code",
   "outputs": [
    {
     "name": "stdout",
     "output_type": "stream",
     "text": [
      "0.9779586340402279\n",
      "0.7906375812949143\n",
      "0.7724239959164715\n",
      "0.6336110774351699\n",
      "8.095732413719732\n"
     ]
    }
   ],
   "source": [
    "print(np.mean(acc_val_night_arr))\n",
    "print(np.mean(prec_val_night_arr))\n",
    "print(np.mean(dice_val_night_arr))\n",
    "print(np.mean(iou_val_night_arr))\n",
    "print(np.mean(hausdorff_val_arr))"
   ],
   "metadata": {
    "collapsed": false,
    "ExecuteTime": {
     "end_time": "2024-02-25T13:51:24.623980900Z",
     "start_time": "2024-02-25T13:51:24.617980900Z"
    }
   },
   "id": "b0f6df4e977ef8fb",
   "execution_count": 33
  }
 ],
 "metadata": {
  "kernelspec": {
   "display_name": "Python 3",
   "language": "python",
   "name": "python3"
  },
  "language_info": {
   "codemirror_mode": {
    "name": "ipython",
    "version": 2
   },
   "file_extension": ".py",
   "mimetype": "text/x-python",
   "name": "python",
   "nbconvert_exporter": "python",
   "pygments_lexer": "ipython2",
   "version": "2.7.6"
  }
 },
 "nbformat": 4,
 "nbformat_minor": 5
}
