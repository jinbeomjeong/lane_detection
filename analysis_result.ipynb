{
 "cells": [
  {
   "cell_type": "code",
   "execution_count": 1,
   "id": "initial_id",
   "metadata": {
    "collapsed": true,
    "ExecuteTime": {
     "end_time": "2024-02-27T21:07:18.080370Z",
     "start_time": "2024-02-27T21:07:17.110339Z"
    }
   },
   "outputs": [],
   "source": [
    "import os, cv2, multiprocessing\n",
    "import numpy as np\n",
    "import pandas as pd\n",
    "\n",
    "from concurrent.futures import ProcessPoolExecutor\n",
    "from miseval import evaluate\n",
    "from tqdm import tqdm"
   ]
  },
  {
   "cell_type": "code",
   "outputs": [],
   "source": [
    "label_daylight_img_root_path = 'd:\\\\lane_result_img\\\\ground_truth\\\\daylight\\\\'\n",
    "label_night_img_root_path = 'd:\\\\lane_result_img\\\\ground_truth\\\\night\\\\'\n",
    "\n",
    "pred_daylight_img_root_path = 'd:\\\\lane_result_img\\\\predict\\\\\\daylight\\\\'\n",
    "pred_night_img_root_path = 'd:\\\\lane_result_img\\\\predict\\\\night\\\\'"
   ],
   "metadata": {
    "collapsed": false,
    "ExecuteTime": {
     "end_time": "2024-02-27T21:07:19.447972Z",
     "start_time": "2024-02-27T21:07:19.431513Z"
    }
   },
   "id": "6e2836e504bcdc1c",
   "execution_count": 2
  },
  {
   "cell_type": "code",
   "outputs": [],
   "source": [
    "label_daylight_img_file_name_list = os.listdir(label_daylight_img_root_path)\n",
    "label_daylight_img_file_name_list.sort()\n",
    "\n",
    "label_night_img_file_name_list = os.listdir(label_night_img_root_path)\n",
    "label_night_img_file_name_list.sort()\n",
    "\n",
    "pred_daylight_img_file_name_list = os.listdir(pred_daylight_img_root_path)\n",
    "pred_daylight_img_file_name_list.sort()\n",
    "\n",
    "pred_night_img_file_name_list = os.listdir(pred_night_img_root_path)\n",
    "pred_night_img_file_name_list.sort()"
   ],
   "metadata": {
    "collapsed": false,
    "ExecuteTime": {
     "end_time": "2024-02-27T21:07:20.470451Z",
     "start_time": "2024-02-27T21:07:20.394425Z"
    }
   },
   "id": "610fcc03e4af6bbb",
   "execution_count": 3
  },
  {
   "cell_type": "code",
   "outputs": [],
   "source": [
    "for i, img_file_name in enumerate(label_daylight_img_file_name_list):\n",
    "    label_daylight_img_file_name_list[i] = label_daylight_img_root_path + img_file_name\n",
    "\n",
    "for i, img_file_name in enumerate(label_night_img_file_name_list):\n",
    "    label_night_img_file_name_list[i] = label_night_img_root_path + img_file_name\n",
    "    \n",
    "for i, img_file_name in enumerate(pred_daylight_img_file_name_list):\n",
    "    pred_daylight_img_file_name_list[i] = pred_daylight_img_root_path + img_file_name\n",
    "\n",
    "for i, img_file_name in enumerate(pred_night_img_file_name_list):\n",
    "    pred_night_img_file_name_list[i] = pred_night_img_root_path + img_file_name"
   ],
   "metadata": {
    "collapsed": false,
    "ExecuteTime": {
     "end_time": "2024-02-27T21:07:21.828762Z",
     "start_time": "2024-02-27T21:07:21.787762Z"
    }
   },
   "id": "556d6a7187767df8",
   "execution_count": 4
  },
  {
   "cell_type": "code",
   "outputs": [],
   "source": [
    "daylight_metric_val_arr = np.zeros((len(label_daylight_img_file_name_list), 10), dtype=np.float64)\n",
    "night_metric_val_arr = np.zeros((len(label_night_img_file_name_list), 10), dtype=np.float64)"
   ],
   "metadata": {
    "collapsed": false,
    "ExecuteTime": {
     "end_time": "2024-02-27T21:07:22.973335Z",
     "start_time": "2024-02-27T21:07:22.969336Z"
    }
   },
   "id": "7d5cfbbd30c5cf85",
   "execution_count": 5
  },
  {
   "cell_type": "code",
   "outputs": [],
   "source": [
    "def calculate_metric(label_img_file_path, pred_img_file_path):\n",
    "    label_img = cv2.imread(filename=label_img_file_path, flags=cv2.IMREAD_GRAYSCALE)\n",
    "    label_img = label_img >= 1\n",
    "    label_img = label_img.astype(np.uint8)\n",
    "    \n",
    "    pred_img = cv2.imread(filename=pred_img_file_path, flags=cv2.IMREAD_GRAYSCALE)\n",
    "    pred_img = pred_img >= 1\n",
    "    pred_img = pred_img.astype(np.uint8)\n",
    "    \n",
    "    acc_val = evaluate(label_img, pred_img, metric=\"ACC\")\n",
    "    prec_val = evaluate(label_img, pred_img, metric=\"PREC\")\n",
    "    dice_val = evaluate(label_img, pred_img, metric=\"DSC\")\n",
    "    iou_val = evaluate(label_img, pred_img, metric=\"IoU\")\n",
    "    hausdorff_val = evaluate(label_img, pred_img, metric=\"HD\")\n",
    "    tp_val = evaluate(label_img, pred_img, metric=\"TP\")\n",
    "    tn_val = evaluate(label_img, pred_img, metric=\"TN\")\n",
    "    fp_val = evaluate(label_img, pred_img, metric=\"FP\")\n",
    "    fn_val = evaluate(label_img, pred_img, metric=\"FN\")\n",
    "    auc_val = evaluate(label_img, pred_img, metric=\"AUC\") \n",
    "    \n",
    "    return acc_val, prec_val, dice_val, iou_val, hausdorff_val, tp_val, tn_val, fp_val, fn_val, auc_val"
   ],
   "metadata": {
    "collapsed": false,
    "ExecuteTime": {
     "end_time": "2024-02-27T21:07:25.454825Z",
     "start_time": "2024-02-27T21:07:25.442824Z"
    }
   },
   "id": "2296652790fc9cbc",
   "execution_count": 6
  },
  {
   "cell_type": "code",
   "outputs": [
    {
     "name": "stderr",
     "output_type": "stream",
     "text": [
      "100%|██████████| 60000/60000 [1:06:09<00:00, 15.11it/s]\n"
     ]
    }
   ],
   "source": [
    "for i, img_path in enumerate(zip(tqdm(label_daylight_img_file_name_list), pred_daylight_img_file_name_list)):\n",
    "    metric_values = calculate_metric(label_img_file_path=img_path[0], pred_img_file_path=img_path[1])\n",
    "    \n",
    "    for j, metric in enumerate(metric_values):\n",
    "        daylight_metric_val_arr[i, j] = metric"
   ],
   "metadata": {
    "collapsed": false,
    "ExecuteTime": {
     "end_time": "2024-02-27T22:13:36.975978Z",
     "start_time": "2024-02-27T21:07:27.079169Z"
    }
   },
   "id": "4fd241f1e7181c30",
   "execution_count": 7
  },
  {
   "cell_type": "code",
   "outputs": [
    {
     "data": {
      "text/plain": "array([[9.89565972e-01, 5.41813899e-01, 6.04865220e-01, ...,\n        1.55600000e+03, 8.48000000e+02, 8.38845308e-01],\n       [9.85030382e-01, 7.17004603e-01, 7.69713561e-01, ...,\n        2.27500000e+03, 1.17400000e+03, 9.10303134e-01],\n       [9.74904514e-01, 8.23708039e-01, 8.37675463e-01, ...,\n        3.19300000e+03, 2.58900000e+03, 9.18563264e-01],\n       ...,\n       [9.69796007e-01, 6.68917112e-01, 7.42001261e-01, ...,\n        4.95300000e+03, 2.00600000e+03, 9.05167157e-01],\n       [9.63055556e-01, 6.93107578e-01, 7.49455466e-01, ...,\n        5.63700000e+03, 2.87500000e+03, 8.94766117e-01],\n       [9.72044271e-01, 8.35203401e-01, 8.39915496e-01, ...,\n        3.33400000e+03, 3.10700000e+03, 9.14417377e-01]])"
     },
     "execution_count": 8,
     "metadata": {},
     "output_type": "execute_result"
    }
   ],
   "source": [
    "daylight_metric_val_arr"
   ],
   "metadata": {
    "collapsed": false,
    "ExecuteTime": {
     "end_time": "2024-02-27T22:13:54.614446Z",
     "start_time": "2024-02-27T22:13:54.591446Z"
    }
   },
   "id": "26134308d249823f",
   "execution_count": 8
  },
  {
   "cell_type": "code",
   "outputs": [
    {
     "name": "stderr",
     "output_type": "stream",
     "text": [
      "100%|██████████| 25100/25100 [27:43<00:00, 15.09it/s]\n"
     ]
    }
   ],
   "source": [
    "for i, img_path in enumerate(zip(tqdm(label_night_img_file_name_list), pred_night_img_file_name_list)):\n",
    "    metric_values = calculate_metric(label_img_file_path=img_path[0], pred_img_file_path=img_path[1])\n",
    "    \n",
    "    for j, metric in enumerate(metric_values):\n",
    "        night_metric_val_arr[i, j] = metric"
   ],
   "metadata": {
    "collapsed": false,
    "ExecuteTime": {
     "end_time": "2024-02-27T22:45:12.687845Z",
     "start_time": "2024-02-27T22:17:28.837749Z"
    }
   },
   "id": "ccb8efa5ce03787",
   "execution_count": 10
  },
  {
   "cell_type": "code",
   "outputs": [
    {
     "data": {
      "text/plain": "array([[9.90069444e-01, 8.34551588e-01, 8.38440898e-01, ...,\n        1.17700000e+03, 1.11100000e+03, 9.18548460e-01],\n       [9.81319444e-01, 7.75302204e-01, 8.20142081e-01, ...,\n        2.84400000e+03, 1.46000000e+03, 9.28754115e-01],\n       [9.59578993e-01, 8.18630004e-01, 8.35083494e-01, ...,\n        5.22400000e+03, 4.08900000e+03, 9.13221966e-01],\n       ...,\n       [9.83111979e-01, 7.89885057e-01, 7.79359229e-01, ...,\n        1.82800000e+03, 2.06300000e+03, 8.80428057e-01],\n       [9.72990451e-01, 8.44451470e-01, 8.37413455e-01, ...,\n        2.95200000e+03, 3.27100000e+03, 9.08254046e-01],\n       [9.62582465e-01, 8.73837375e-01, 7.80351092e-01, ...,\n        2.21100000e+03, 6.41000000e+03, 8.47169631e-01]])"
     },
     "execution_count": 12,
     "metadata": {},
     "output_type": "execute_result"
    }
   ],
   "source": [
    "night_metric_val_arr"
   ],
   "metadata": {
    "collapsed": false,
    "ExecuteTime": {
     "end_time": "2024-02-27T22:45:28.972018Z",
     "start_time": "2024-02-27T22:45:28.955017Z"
    }
   },
   "id": "3c8e8ef63162350a",
   "execution_count": 12
  }
 ],
 "metadata": {
  "kernelspec": {
   "display_name": "Python 3",
   "language": "python",
   "name": "python3"
  },
  "language_info": {
   "codemirror_mode": {
    "name": "ipython",
    "version": 2
   },
   "file_extension": ".py",
   "mimetype": "text/x-python",
   "name": "python",
   "nbconvert_exporter": "python",
   "pygments_lexer": "ipython2",
   "version": "2.7.6"
  }
 },
 "nbformat": 4,
 "nbformat_minor": 5
}
