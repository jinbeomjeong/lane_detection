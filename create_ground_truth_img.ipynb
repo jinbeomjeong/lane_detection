{
 "cells": [
  {
   "cell_type": "code",
   "execution_count": 16,
   "id": "initial_id",
   "metadata": {
    "collapsed": true,
    "ExecuteTime": {
     "end_time": "2024-02-25T10:24:51.553955900Z",
     "start_time": "2024-02-25T10:24:51.548418200Z"
    }
   },
   "outputs": [],
   "source": [
    "import cv2, os\n",
    "import numpy as np\n",
    "from datasets import LaneDataset\n",
    "from tqdm import tqdm"
   ]
  },
  {
   "cell_type": "code",
   "outputs": [],
   "source": [
    "dataset = LaneDataset(data_path=\"data/val_daylight.txt\")\n",
    "dataset.I_H = 360\n",
    "dataset.I_W = 640\n",
    "output_path = \"output_img\"+os.sep+'ground_truth'+os.sep+'daylight'+os.sep"
   ],
   "metadata": {
    "collapsed": false,
    "ExecuteTime": {
     "end_time": "2024-02-25T10:24:52.635778600Z",
     "start_time": "2024-02-25T10:24:52.480939Z"
    }
   },
   "id": "e0ca40621257f121",
   "execution_count": 17
  },
  {
   "cell_type": "code",
   "outputs": [
    {
     "name": "stderr",
     "output_type": "stream",
     "text": [
      "ground truth creating...: 100%|██████████| 60000/60000 [33:32<00:00, 29.81it/s]\n"
     ]
    }
   ],
   "source": [
    "for i, (img, target, path) in enumerate(tqdm(dataset, desc='ground truth creating...')):\n",
    "    target = target.numpy().astype(np.uint8)\n",
    "    target *= 255\n",
    "\n",
    "    _, file_name = os.path.split(path.replace('\\\\', '/'))\n",
    "    file_path = output_path+file_name\n",
    "    cv2.imwrite(file_path, target)"
   ],
   "metadata": {
    "collapsed": false,
    "ExecuteTime": {
     "end_time": "2024-02-25T10:58:26.008473100Z",
     "start_time": "2024-02-25T10:24:53.443176Z"
    }
   },
   "id": "bcb8126f8833dad1",
   "execution_count": 18
  }
 ],
 "metadata": {
  "kernelspec": {
   "display_name": "Python 3",
   "language": "python",
   "name": "python3"
  },
  "language_info": {
   "codemirror_mode": {
    "name": "ipython",
    "version": 2
   },
   "file_extension": ".py",
   "mimetype": "text/x-python",
   "name": "python",
   "nbconvert_exporter": "python",
   "pygments_lexer": "ipython2",
   "version": "2.7.6"
  }
 },
 "nbformat": 4,
 "nbformat_minor": 5
}
