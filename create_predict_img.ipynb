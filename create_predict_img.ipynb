{
 "cells": [
  {
   "cell_type": "code",
   "execution_count": 12,
   "id": "initial_id",
   "metadata": {
    "collapsed": true,
    "ExecuteTime": {
     "end_time": "2024-02-25T10:38:55.930651Z",
     "start_time": "2024-02-25T10:38:55.922650200Z"
    }
   },
   "outputs": [],
   "source": [
    "import cv2, torch, os\n",
    "import numpy as np\n",
    "\n",
    "from module import LaneClassification\n",
    "from torchvision import transforms\n",
    "from datasets import LaneDataset\n",
    "from tqdm import tqdm"
   ]
  },
  {
   "cell_type": "code",
   "outputs": [],
   "source": [
    "output_path = 'output_img'+os.sep+'predict'+os.sep+'daylight'+os.sep\n",
    "device = torch.device('cuda:0')\n",
    "model = LaneClassification.load_from_checkpoint(checkpoint_path='resnet_50_640_360.ckpt',\n",
    "                                                map_location='cuda:0')\n",
    "model.eval()\n",
    "\n",
    "dataset = LaneDataset(data_path=\"data/val_daylight.txt\")\n",
    "dataset.I_H = 360\n",
    "dataset.I_W = 640"
   ],
   "metadata": {
    "collapsed": false,
    "ExecuteTime": {
     "end_time": "2024-02-25T10:38:58.391103300Z",
     "start_time": "2024-02-25T10:38:57.070148100Z"
    }
   },
   "id": "24537016ca3acecd",
   "execution_count": 13
  },
  {
   "cell_type": "code",
   "outputs": [
    {
     "name": "stderr",
     "output_type": "stream",
     "text": [
      "100%|██████████| 60000/60000 [52:09<00:00, 19.17it/s]  \n"
     ]
    }
   ],
   "source": [
    "for i, (img_tensor, target, path) in enumerate(tqdm(dataset)):\n",
    "    img_tensor.unsqueeze_(0)\n",
    "    output = model.forward(img_tensor.to(device))\n",
    "\n",
    "    lane_img = torch.sigmoid(output['out'])\n",
    "    lane_img = torch.argmax(lane_img[0], 0)\n",
    "    lane_img = lane_img.cpu().numpy().astype(np.uint8)\n",
    "    lane_img *= 255\n",
    "\n",
    "    _, file_name = os.path.split(path.replace('\\\\', '/'))\n",
    "    file_path = output_path+file_name\n",
    "    cv2.imwrite(file_path, lane_img)"
   ],
   "metadata": {
    "collapsed": false,
    "ExecuteTime": {
     "end_time": "2024-02-25T11:32:07.446101800Z",
     "start_time": "2024-02-25T10:39:57.781553500Z"
    }
   },
   "id": "c3b6683ff4899913",
   "execution_count": 14
  }
 ],
 "metadata": {
  "kernelspec": {
   "display_name": "Python 3",
   "language": "python",
   "name": "python3"
  },
  "language_info": {
   "codemirror_mode": {
    "name": "ipython",
    "version": 2
   },
   "file_extension": ".py",
   "mimetype": "text/x-python",
   "name": "python",
   "nbconvert_exporter": "python",
   "pygments_lexer": "ipython2",
   "version": "2.7.6"
  }
 },
 "nbformat": 4,
 "nbformat_minor": 5
}
